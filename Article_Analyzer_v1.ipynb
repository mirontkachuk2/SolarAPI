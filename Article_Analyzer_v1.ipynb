{
 "cells": [
  {
   "cell_type": "code",
   "execution_count": 96,
   "id": "36165e03",
   "metadata": {},
   "outputs": [],
   "source": [
    "import requests\n",
    "import pandas as pd\n",
    "from openai import OpenAI\n",
    "import re"
   ]
  },
  {
   "cell_type": "code",
   "execution_count": 110,
   "id": "870b3280",
   "metadata": {},
   "outputs": [],
   "source": [
    "#request to LLM model\n",
    "def ask_solar(content, question):\n",
    "    client = OpenAI(\n",
    "        api_key=\"HKkatmQoQ0I4t8Pt9V1xKQDNvPiUNL43\",\n",
    "        base_url=\"https://api.upstage.ai/v1/solar\"\n",
    "    )\n",
    "\n",
    "    response = client.chat.completions.create(\n",
    "        model=\"solar-1-mini-chat\",\n",
    "        messages=[\n",
    "            {\n",
    "                \"role\": \"system\",\n",
    "                \"content\": \"You are a helpful assistant.\"\n",
    "            },\n",
    "            {\n",
    "                \"role\": \"user\",\n",
    "                \"content\": \"Answer the following question:\"\n",
    "                + question\n",
    "                + \"by using the following text:\"\n",
    "                + content\n",
    "            }\n",
    "        ]\n",
    "    )\n",
    "    return response.choices[0].message.content"
   ]
  },
  {
   "cell_type": "code",
   "execution_count": 98,
   "id": "f529c5c8",
   "metadata": {},
   "outputs": [],
   "source": [
    "#downloads pdf from the url\n",
    "def download_pdf(url, filename):\n",
    "    response = requests.get(url)\n",
    "    with open(filename, 'wb') as f:\n",
    "        f.write(response.content)"
   ]
  },
  {
   "cell_type": "code",
   "execution_count": 122,
   "id": "6e1bed18",
   "metadata": {},
   "outputs": [],
   "source": [
    "#get the list of pdf for the given article name\n",
    "def get_pdf(prompt, filename):\n",
    "    \n",
    "    \n",
    "    pdf_links = []\n",
    "    iteration = 0\n",
    "    while not(pdf_links):\n",
    "        \n",
    "        url = \"https://scholar.google.com/scholar?start=\" + str(iteration*10) + \\\n",
    "               \"&hl=en&as_sdt=0%2C5&q=\" + '+'.join(prompt.split())\n",
    "        \n",
    "        response = requests.post(url)\n",
    "\n",
    "        pattern = r'https:\\/\\/[^\\s]+\\.pdf'\n",
    "        matches = re.findall(pattern, response.text)\n",
    "\n",
    "\n",
    "        for link in matches:\n",
    "            response = requests.post(url = link)\n",
    "            if response.headers['content-type'] in ['application/pdf']:\n",
    "                pdf_links.append(link)\n",
    "        \n",
    "        iteration += 1\n",
    "        \n",
    "        \n",
    "    pdf_links = list(set(pdf_links))\n",
    "\n",
    "    #URL of the PDF file (take only one for the baseline)\n",
    "    pdf_url = pdf_links[0]\n",
    "\n",
    "    # Download the PDF\n",
    "    download_pdf(pdf_url, filename)"
   ]
  },
  {
   "cell_type": "code",
   "execution_count": 112,
   "id": "e87039e5",
   "metadata": {},
   "outputs": [],
   "source": [
    "#parse text in the pdf file\n",
    "def get_text(filename):\n",
    "    \n",
    "    api_key = \"upstage-la-token-20240309\"\n",
    "    url = \"https://api.upstage.ai/v1/document-ai/layout-analyzer\"\n",
    "    headers = {\"Authorization\": f\"Bearer {api_key}\"}\n",
    "    files = {\"document\": open(filename, \"rb\")}\n",
    "    \n",
    "    response = requests.post(url, headers=headers, files=files)\n",
    "    \n",
    "    text = ''\n",
    "    for element in response.json()['elements']:\n",
    "        if element['category'] == 'paragraph':\n",
    "            text+= element['text']\n",
    "            \n",
    "    return text"
   ]
  },
  {
   "cell_type": "code",
   "execution_count": 123,
   "id": "e6d7dccf",
   "metadata": {},
   "outputs": [],
   "source": [
    "#ready to run preset for functions\n",
    "filename = 'article.pdf'\n",
    "question = 'Describe all the main point and insights of given article.'"
   ]
  },
  {
   "cell_type": "code",
   "execution_count": 124,
   "id": "72920512",
   "metadata": {},
   "outputs": [
    {
     "data": {
      "text/plain": [
       "\"The article discusses the importance of managing your own feedback and how to receive it well. It highlights that feedback is crucial for personal and professional growth, but it can also be difficult to receive. The article suggests that people have three types of triggers when receiving feedback: truth triggers, relationship triggers, and identity triggers. The article also provides six steps to becoming a better receiver of feedback, including understanding your own triggers, separating the message from the messenger, and sorting feedback into evaluative or coaching categories. The article emphasizes that feedback is a process of sorting and filtering, and it requires understanding the other person's point of view, trying on new ideas, and experimenting with different approaches.\""
      ]
     },
     "execution_count": 124,
     "metadata": {},
     "output_type": "execute_result"
    }
   ],
   "source": [
    "#Name the article here and run\n",
    "#4096 tokens limitations so far\n",
    "article = 'find the coaching in criticism'\n",
    "\n",
    "get_pdf(prompt = article, filename = filename)\n",
    "article_content = get_text(filename)\n",
    "ask_solar(article_content[:15000], question = question)"
   ]
  },
  {
   "cell_type": "markdown",
   "id": "dd9c5023",
   "metadata": {},
   "source": [
    "Solar LLM:\n",
    "1) 4096 tokens limit; (cut is not an option)\n",
    "\n",
    "General:\n",
    "1) Compare several PDFs on 1 topic. Show mutual and contradicting parts"
   ]
  }
 ],
 "metadata": {
  "kernelspec": {
   "display_name": "Python 3 (ipykernel)",
   "language": "python",
   "name": "python3"
  },
  "language_info": {
   "codemirror_mode": {
    "name": "ipython",
    "version": 3
   },
   "file_extension": ".py",
   "mimetype": "text/x-python",
   "name": "python",
   "nbconvert_exporter": "python",
   "pygments_lexer": "ipython3",
   "version": "3.11.0"
  }
 },
 "nbformat": 4,
 "nbformat_minor": 5
}
